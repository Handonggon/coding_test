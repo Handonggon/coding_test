{
 "cells": [
  {
   "cell_type": "code",
   "execution_count": 4,
   "metadata": {},
   "outputs": [],
   "source": [
    "def solution(array,commands):\n",
    "    answer =[]\n",
    "    for i in commands:\n",
    "        a = array[i[0]-1:i[1]]\n",
    "        a = sorted(a)\n",
    "        answer.append(a[i[2]-1])\n",
    "    return answer"
   ]
  },
  {
   "cell_type": "code",
   "execution_count": 5,
   "metadata": {},
   "outputs": [],
   "source": [
    "array = [1, 5, 2, 6, 3, 7, 4]\n",
    "commands = [[2, 5, 3], [4, 4, 1], [1, 7, 3]]"
   ]
  },
  {
   "cell_type": "code",
   "execution_count": 6,
   "metadata": {},
   "outputs": [
    {
     "data": {
      "text/plain": [
       "[5, 6, 3]"
      ]
     },
     "execution_count": 6,
     "metadata": {},
     "output_type": "execute_result"
    }
   ],
   "source": [
    "solution(array, commands)"
   ]
  },
  {
   "cell_type": "code",
   "execution_count": 21,
   "metadata": {},
   "outputs": [],
   "source": [
    "def solution(array,commands):\n",
    "    answer =[]\n",
    "    for i in commands:\n",
    "        print('커맨드',i)\n",
    "        a = array[i[0]-1:i[1]]\n",
    "        print(\"a\",a)\n",
    "        a.sort\n",
    "        # print(a)\n",
    "        print(\"i[2]입니다\",i[2])\n",
    "        answer.append(a[i[2]-1])\n",
    "    return answer"
   ]
  },
  {
   "cell_type": "code",
   "execution_count": 22,
   "metadata": {},
   "outputs": [
    {
     "data": {
      "text/plain": [
       "[6, 6, 2]"
      ]
     },
     "execution_count": 22,
     "metadata": {},
     "output_type": "execute_result"
    }
   ],
   "source": [
    "answer"
   ]
  },
  {
   "cell_type": "code",
   "execution_count": 30,
   "metadata": {},
   "outputs": [
    {
     "name": "stdout",
     "output_type": "stream",
     "text": [
      "커맨드 [2, 5, 3]\n",
      "a =  [5, 2, 6, 3]\n",
      "정렬 후 a [2, 3, 5, 6]\n",
      "i[2]입니다 3\n",
      "커맨드 [4, 4, 1]\n",
      "a =  [6]\n",
      "정렬 후 a [6]\n",
      "i[2]입니다 1\n",
      "커맨드 [1, 7, 3]\n",
      "a =  [1, 5, 2, 6, 3, 7, 4]\n",
      "정렬 후 a [1, 2, 3, 4, 5, 6, 7]\n",
      "i[2]입니다 3\n"
     ]
    }
   ],
   "source": [
    "answer =[]\n",
    "for i in commands:\n",
    "    print('커맨드',i)\n",
    "    a = array[i[0]-1:i[1]]\n",
    "    print(\"a = \",a)\n",
    "    a = sorted(a)\n",
    "    print('정렬 후 a',a)\n",
    "    # print(a)\n",
    "    print(\"i[2]입니다\",i[2])\n",
    "    answer.append(a[i[2]-1])"
   ]
  },
  {
   "cell_type": "code",
   "execution_count": 2,
   "metadata": {},
   "outputs": [],
   "source": [
    "a = [2, 5, 3]\n",
    "i,k,j = a"
   ]
  },
  {
   "cell_type": "code",
   "execution_count": 3,
   "metadata": {},
   "outputs": [
    {
     "data": {
      "text/plain": [
       "2"
      ]
     },
     "execution_count": 3,
     "metadata": {},
     "output_type": "execute_result"
    }
   ],
   "source": [
    "i"
   ]
  },
  {
   "cell_type": "code",
   "execution_count": 7,
   "metadata": {},
   "outputs": [],
   "source": [
    "commands = [[2, 5, 3], [4, 4, 1], [1, 7, 3]]\n",
    "a,b,c = commands"
   ]
  },
  {
   "cell_type": "code",
   "execution_count": 8,
   "metadata": {},
   "outputs": [
    {
     "data": {
      "text/plain": [
       "[2, 5, 3]"
      ]
     },
     "execution_count": 8,
     "metadata": {},
     "output_type": "execute_result"
    }
   ],
   "source": [
    "a"
   ]
  },
  {
   "cell_type": "code",
   "execution_count": null,
   "metadata": {},
   "outputs": [],
   "source": []
  }
 ],
 "metadata": {
  "kernelspec": {
   "display_name": "Python 3.9.7 ('base')",
   "language": "python",
   "name": "python3"
  },
  "language_info": {
   "codemirror_mode": {
    "name": "ipython",
    "version": 3
   },
   "file_extension": ".py",
   "mimetype": "text/x-python",
   "name": "python",
   "nbconvert_exporter": "python",
   "pygments_lexer": "ipython3",
   "version": "3.9.7"
  },
  "orig_nbformat": 4,
  "vscode": {
   "interpreter": {
    "hash": "c26f353c27931f725c93fcbadc2e7e31e7e5899f3a4467db104b676492b983cb"
   }
  }
 },
 "nbformat": 4,
 "nbformat_minor": 2
}
