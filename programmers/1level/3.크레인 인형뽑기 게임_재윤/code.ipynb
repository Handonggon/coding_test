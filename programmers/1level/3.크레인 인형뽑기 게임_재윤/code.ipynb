{
 "cells": [
  {
   "cell_type": "code",
   "execution_count": 20,
   "id": "87d90e5b",
   "metadata": {},
   "outputs": [],
   "source": [
    "board = [[0,0,0,0,0],[0,0,1,0,3],[0,2,5,0,1],[4,2,4,4,2],[3,5,1,3,1]]\n",
    "moves = [1,5,3,5,1,2,1,4]\n",
    "basket = []\n",
    "answer = 0"
   ]
  },
  {
   "cell_type": "code",
   "execution_count": 21,
   "id": "e76e31c5",
   "metadata": {},
   "outputs": [],
   "source": [
    "# for i in range(0,len(moves)):\n",
    "#     print(i)"
   ]
  },
  {
   "cell_type": "code",
   "execution_count": 67,
   "id": "2c87b5a5",
   "metadata": {},
   "outputs": [],
   "source": [
    "# board = [[0,0,0,0,0],[0,0,1,0,3],[0,2,5,0,1],[4,2,4,4,2],[3,5,1,3,1]]\n",
    "# moves = [1,5,3,5,1,2,1,4]\n",
    "\n",
    "\n",
    "\n",
    "def solution(board, moves):\n",
    "\n",
    "    basket = []\n",
    "    answer = 0\n",
    "\n",
    "\n",
    "    length = {}\n",
    "    keys = []\n",
    "    for i in range(1,len(board[0])+1):\n",
    "        keys.append(i)\n",
    "        length = dict.fromkeys(keys)\n",
    "    for i in range(1,len(board[0])+1):\n",
    "        length[i]= []\n",
    "    for i in range(len(board[0])):\n",
    "        for width in board:\n",
    "            if width[i] > 0 :\n",
    "                length[i+1].append(width[i])\n",
    "            else :\n",
    "                pass\n",
    "\n",
    "    for i in moves :\n",
    "        \n",
    "        if len(length[i]) == 0:\n",
    "            pass\n",
    "        else:\n",
    "            basket.append(length[i][0])\n",
    "            del length[i][0]\n",
    "            if len(basket) > 1:\n",
    "                if  basket[-1] == basket[-2] :\n",
    "                    answer += 2\n",
    "                    del basket[-1],basket[-1]\n",
    "                \n",
    "                else :\n",
    "                    pass\n",
    "            else:\n",
    "                pass\n",
    "    return answer\n",
    "        \n",
    "\n",
    "\n",
    "            \n",
    "    # for i in range(0,len(basket)): # 8 0~7\n",
    "    #     if i == len(basket)-2:\n",
    "    #         if  basket[i] == basket[i+1] :\n",
    "    #                 basket[i],basket[i+1] = 0\n",
    "    #         break\n",
    "    #     else :\n",
    "    #         if basket[i] == basket[i+1] :\n",
    "    #             basket[i] = 0\n",
    "    #             basket[i+1] = 0\n",
    "    #         else :\n",
    "    #             pass\n",
    "    # answer=basket.count(0)   \n",
    "    # return answer\n",
    "        "
   ]
  },
  {
   "cell_type": "code",
   "execution_count": 68,
   "id": "62d09dce",
   "metadata": {},
   "outputs": [],
   "source": [
    "board = [[0,0,0,0,0],[0,0,1,0,3],[0,2,5,0,1],[4,2,4,4,2],[3,5,1,3,1]]\n",
    "moves = [1,5,3,5,1,2,1,4]"
   ]
  },
  {
   "cell_type": "code",
   "execution_count": 69,
   "id": "ccbed3f6",
   "metadata": {},
   "outputs": [
    {
     "data": {
      "text/plain": [
       "4"
      ]
     },
     "execution_count": 69,
     "metadata": {},
     "output_type": "execute_result"
    }
   ],
   "source": [
    "solution(board, moves)"
   ]
  },
  {
   "cell_type": "code",
   "execution_count": 62,
   "id": "5a6449fb",
   "metadata": {},
   "outputs": [],
   "source": [
    "a = 0\n"
   ]
  },
  {
   "cell_type": "code",
   "execution_count": 65,
   "id": "a41ec54b",
   "metadata": {},
   "outputs": [
    {
     "data": {
      "text/plain": [
       "6"
      ]
     },
     "execution_count": 65,
     "metadata": {},
     "output_type": "execute_result"
    }
   ],
   "source": [
    "a += 2\n",
    "a"
   ]
  },
  {
   "cell_type": "code",
   "execution_count": 66,
   "id": "17b18c16",
   "metadata": {},
   "outputs": [
    {
     "data": {
      "text/plain": [
       "[1, 5, 3, 5, 1, 1]"
      ]
     },
     "execution_count": 66,
     "metadata": {},
     "output_type": "execute_result"
    }
   ],
   "source": [
    "board = [[0, 0, 0, 0, 0], [0, 0, 1, 0, 3], [0, 2, 5, 0, 1], [4, 2, 4, 4, 2], [3, 5, 1, 3, 1]]\n",
    "\n",
    "moves =  [1, 5, 3, 5, 1, 2, 1, 4]\n",
    "\n",
    "del moves[-1],mov\n",
    "moves"
   ]
  },
  {
   "cell_type": "code",
   "execution_count": 37,
   "id": "88cf717e",
   "metadata": {},
   "outputs": [
    {
     "data": {
      "text/plain": [
       "[[0, 0, 0, 0, 0],\n",
       " [0, 0, 1, 0, 3],\n",
       " [0, 2, 5, 0, 1],\n",
       " [4, 2, 4, 4, 2],\n",
       " [3, 5, 1, 3, 1]]"
      ]
     },
     "execution_count": 37,
     "metadata": {},
     "output_type": "execute_result"
    }
   ],
   "source": [
    "board"
   ]
  },
  {
   "cell_type": "code",
   "execution_count": null,
   "id": "10190d57",
   "metadata": {},
   "outputs": [],
   "source": [
    "4 3 1 1  3"
   ]
  }
 ],
 "metadata": {
  "kernelspec": {
   "display_name": "pydata",
   "language": "python",
   "name": "pydata"
  },
  "language_info": {
   "codemirror_mode": {
    "name": "ipython",
    "version": 3
   },
   "file_extension": ".py",
   "mimetype": "text/x-python",
   "name": "python",
   "nbconvert_exporter": "python",
   "pygments_lexer": "ipython3",
   "version": "3.9.7"
  }
 },
 "nbformat": 4,
 "nbformat_minor": 5
}
