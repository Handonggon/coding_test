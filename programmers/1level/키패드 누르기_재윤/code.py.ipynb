{
 "cells": [
  {
   "cell_type": "code",
   "execution_count": 2,
   "id": "87d90e5b",
   "metadata": {},
   "outputs": [
    {
     "data": {
      "text/plain": [
       "'./info'"
      ]
     },
     "execution_count": 2,
     "metadata": {},
     "output_type": "execute_result"
    }
   ],
   "source": [
    "left 1 4 7\n",
    "1 1 2 3 4\n",
    "4 2 1 2 3\n",
    "7 3 2 1 2\n",
    "\n",
    "right 3 6 9\n",
    "3 1 2 3 4\n",
    "6 2 1 2 3\n",
    "9 3 2 1 2\n",
    "\n",
    "\n",
    "input_data = input()\n",
    "\n",
    "\n",
    "if input\n",
    "\n",
    "\n",
    "2 5 8 0\n",
    "\n",
    "if le<ra = le\n",
    "elit le>ra = ra"
   ]
  },
  {
   "cell_type": "code",
   "execution_count": 1,
   "id": "e76e31c5",
   "metadata": {},
   "outputs": [
    {
     "name": "stdout",
     "output_type": "stream",
     "text": [
      "3\n"
     ]
    }
   ],
   "source": [
    "input_data = input()"
   ]
  },
  {
   "cell_type": "code",
   "execution_count": 2,
   "id": "2c87b5a5",
   "metadata": {},
   "outputs": [
    {
     "data": {
      "text/plain": [
       "'3'"
      ]
     },
     "execution_count": 2,
     "metadata": {},
     "output_type": "execute_result"
    }
   ],
   "source": [
    "input_data"
   ]
  },
  {
   "cell_type": "code",
   "execution_count": 94,
   "id": "62d09dce",
   "metadata": {},
   "outputs": [
    {
     "ename": "SyntaxError",
     "evalue": "unexpected EOF while parsing (Temp/ipykernel_5328/36229647.py, line 1)",
     "output_type": "error",
     "traceback": [
      "\u001b[1;36m  File \u001b[1;32m\"C:\\Users\\jayo9\\AppData\\Local\\Temp/ipykernel_5328/36229647.py\"\u001b[1;36m, line \u001b[1;32m1\u001b[0m\n\u001b[1;33m    numbers = [1,4,7,3,6,1,5\u001b[0m\n\u001b[1;37m                            ^\u001b[0m\n\u001b[1;31mSyntaxError\u001b[0m\u001b[1;31m:\u001b[0m unexpected EOF while parsing\n"
     ]
    }
   ],
   "source": [
    "numbers = [1,4,7,3,6,1,5"
   ]
  },
  {
   "cell_type": "code",
   "execution_count": 202,
   "id": "26c31259",
   "metadata": {},
   "outputs": [],
   "source": [
    "def solution(numbers, hand):\n",
    "    #왼손\n",
    "    dictionary_left = {1:[1,2,3,4],4:[2,1,2,3],7:[3,2,1,2],'*':[4,3,2,1],2:[0,1,2,3],5:[1,0,1,2],8:[2,1,0,1],0:[3,2,1,0]}\n",
    "   \n",
    "    #오른손\n",
    "    dictionary_right = {3:[1,2,3,4],6:[2,1,2,3],9:[3,2,1,2],'#':[4,3,2,1],2:[0,1,2,3],5:[1,0,1,2],8:[2,1,0,1],0:[3,2,1,0]}\n",
    "\n",
    "\n",
    "    push_hand = []\n",
    "    left_hand = ['*']\n",
    "    right_hand = ['#']\n",
    "\n",
    "    for number in numbers:\n",
    "        print(number)\n",
    "        if number == 1 or number == 4 or number == 7 : \n",
    "            push_hand.append('L'),left_hand.append(number)\n",
    "#             print(number,'왼손')\n",
    "        elif number == 3 or number == 6 or number == 9 : \n",
    "            push_hand.append('R'),right_hand.append(number)\n",
    "#             print(number,'오른손')\n",
    "        elif number == 2 or number == 5 or number == 8 or number == 0:       \n",
    "            jy = {2:0,5:1,8:2,0:3}\n",
    "            if dictionary_left[left_hand[-1]][jy[number]] < dictionary_right[right_hand[-1]][jy[number]] : \n",
    "                push_hand.append('L')\n",
    "                left_hand.append(number)\n",
    "            if dictionary_left[left_hand[-1]][jy[number]] > dictionary_right[right_hand[-1]][jy[number]] :\n",
    "                push_hand.append('R')\n",
    "                right_hand.append(number)\n",
    "            if dictionary_left[left_hand[-1]][jy[number]] == dictionary_right[right_hand[-1]][jy[number]] :\n",
    "                print('딕셔너리 비교까지는 왔습니다')\n",
    "                if hand == 'right':\n",
    "                    right_hand.append(number)\n",
    "                    push_hand.append(\"R\")\n",
    "                    print('핸드와 넘버가 들어갔습니다')\n",
    "                if hand == 'left':\n",
    "                    left_hand.append(number)\n",
    "                    push_hand.append('L')\n",
    "\n",
    "        print('left_hand',left_hand)\n",
    "        print('right_hand',right_hand)\n",
    "        print('push_hand',push_hand)\n",
    "        print('ㅡㅡㅡㅡㅡㅡㅡㅡㅡㅡㅡㅡㅡㅡㅡㅡㅡㅡㅡㅡㅡㅡㅡㅡㅡㅡㅡㅡㅡㅡㅡㅡㅡㅡㅡㅡ')\n",
    "    answer = (''.join(push_hand))    \n",
    "    return answer    \n",
    "    \n",
    "    answer = ''\n",
    "    return answer\n",
    "\n",
    "# #왼손\n",
    "# dictionary_left = {1:[1,2,3,4],4:[2,1,2,3],7:[3,2,1,2],'*':[4,3,2,1],2:[0,1,2,3],5:[1,0,1,2],8:[2,1,0,1],0:[3,2,1,0]}\n",
    "   \n",
    "# #오른손\n",
    "# dictionary_right = {3:[1,2,3,4],6:[2,1,2,3],9:[3,2,1,2],'#':[4,3,2,1],2:[0,1,2,3],5:[1,0,1,2],8:[2,1,0,1],0:[3,2,1,0]}\n",
    "\n",
    "\n",
    "# push_hand = []\n",
    "# left_hand = ['*']\n",
    "# right_hand = ['#']\n",
    "\n",
    "# numbers = [1, 2, 3, 4, 5, 6, 7, 8, 9, 0]\n",
    "# for number in numbers:\n",
    "#     if number == 1 or number == 4 or number == 7 : \n",
    "#         push_hand.append('L'),left_hand.append(number)\n",
    "#         print(number,'왼손')\n",
    "#     elif number == 3 or number == 6 or number == 9 : \n",
    "#         push_hand.append('R'),right_hand.append(number)\n",
    "#         print(number,'오른손')\n",
    "#     elif number == 2 or number == 5 or number == 8 or number == 0:       \n",
    "#         jy = {2:0,5:1,8:2,0:3}\n",
    "#         if dictionary_left[left_hand[-1]][jy[number]] < dictionary_right[right_hand[-1]][jy[number]] : \n",
    "#             push_hand.append('L')\n",
    "#             left_hand.append(number)\n",
    "#         if dictionary_left[left_hand[-1]][jy[number]] > dictionary_right[right_hand[-1]][jy[number]] :\n",
    "#             push_hand.append('R')\n",
    "#             right_hand.append(number)\n",
    "#         if dictionary_left[left_hand[-1]][jy[number]] == dictionary_right[right_hand[-1]][jy[number]] :\n",
    "#             push_hand.append('매개변수')\n",
    "        \n",
    "#     print('left_hand',left_hand)\n",
    "#     print('right_hand',right_hand)\n",
    "#     print('push_hand',push_hand)\n",
    "#     print('ㅡㅡㅡㅡㅡㅡㅡㅡㅡㅡㅡㅡㅡㅡㅡㅡㅡㅡㅡㅡㅡㅡㅡㅡㅡㅡㅡㅡㅡㅡㅡㅡㅡㅡㅡㅡ')\n",
    "# answer = (''.join(push_hand))    \n",
    "# return answer    \n",
    "# # print(push_hand)\n",
    "# # push_hand = ''.join(push_hand)\n",
    "# #     else:\n",
    "# #         print('오류가있습니다')\n",
    "# # push_hand"
   ]
  },
  {
   "cell_type": "code",
   "execution_count": 203,
   "id": "5d03f52e",
   "metadata": {},
   "outputs": [
    {
     "name": "stdout",
     "output_type": "stream",
     "text": [
      "1\n",
      "left_hand ['*', 1]\n",
      "right_hand ['#']\n",
      "push_hand ['L']\n",
      "ㅡㅡㅡㅡㅡㅡㅡㅡㅡㅡㅡㅡㅡㅡㅡㅡㅡㅡㅡㅡㅡㅡㅡㅡㅡㅡㅡㅡㅡㅡㅡㅡㅡㅡㅡㅡ\n",
      "3\n",
      "left_hand ['*', 1]\n",
      "right_hand ['#', 3]\n",
      "push_hand ['L', 'R']\n",
      "ㅡㅡㅡㅡㅡㅡㅡㅡㅡㅡㅡㅡㅡㅡㅡㅡㅡㅡㅡㅡㅡㅡㅡㅡㅡㅡㅡㅡㅡㅡㅡㅡㅡㅡㅡㅡ\n",
      "4\n",
      "left_hand ['*', 1, 4]\n",
      "right_hand ['#', 3]\n",
      "push_hand ['L', 'R', 'L']\n",
      "ㅡㅡㅡㅡㅡㅡㅡㅡㅡㅡㅡㅡㅡㅡㅡㅡㅡㅡㅡㅡㅡㅡㅡㅡㅡㅡㅡㅡㅡㅡㅡㅡㅡㅡㅡㅡ\n",
      "5\n",
      "left_hand ['*', 1, 4, 5]\n",
      "right_hand ['#', 3]\n",
      "push_hand ['L', 'R', 'L', 'L']\n",
      "ㅡㅡㅡㅡㅡㅡㅡㅡㅡㅡㅡㅡㅡㅡㅡㅡㅡㅡㅡㅡㅡㅡㅡㅡㅡㅡㅡㅡㅡㅡㅡㅡㅡㅡㅡㅡ\n",
      "8\n",
      "left_hand ['*', 1, 4, 5, 8]\n",
      "right_hand ['#', 3]\n",
      "push_hand ['L', 'R', 'L', 'L', 'L']\n",
      "ㅡㅡㅡㅡㅡㅡㅡㅡㅡㅡㅡㅡㅡㅡㅡㅡㅡㅡㅡㅡㅡㅡㅡㅡㅡㅡㅡㅡㅡㅡㅡㅡㅡㅡㅡㅡ\n",
      "2\n",
      "left_hand ['*', 1, 4, 5, 8]\n",
      "right_hand ['#', 3, 2]\n",
      "push_hand ['L', 'R', 'L', 'L', 'L', 'R']\n",
      "ㅡㅡㅡㅡㅡㅡㅡㅡㅡㅡㅡㅡㅡㅡㅡㅡㅡㅡㅡㅡㅡㅡㅡㅡㅡㅡㅡㅡㅡㅡㅡㅡㅡㅡㅡㅡ\n",
      "1\n",
      "left_hand ['*', 1, 4, 5, 8, 1]\n",
      "right_hand ['#', 3, 2]\n",
      "push_hand ['L', 'R', 'L', 'L', 'L', 'R', 'L']\n",
      "ㅡㅡㅡㅡㅡㅡㅡㅡㅡㅡㅡㅡㅡㅡㅡㅡㅡㅡㅡㅡㅡㅡㅡㅡㅡㅡㅡㅡㅡㅡㅡㅡㅡㅡㅡㅡ\n",
      "4\n",
      "left_hand ['*', 1, 4, 5, 8, 1, 4]\n",
      "right_hand ['#', 3, 2]\n",
      "push_hand ['L', 'R', 'L', 'L', 'L', 'R', 'L', 'L']\n",
      "ㅡㅡㅡㅡㅡㅡㅡㅡㅡㅡㅡㅡㅡㅡㅡㅡㅡㅡㅡㅡㅡㅡㅡㅡㅡㅡㅡㅡㅡㅡㅡㅡㅡㅡㅡㅡ\n",
      "5\n",
      "딕셔너리 비교까지는 왔습니다\n",
      "핸드와 넘버가 들어갔습니다\n",
      "left_hand ['*', 1, 4, 5, 8, 1, 4]\n",
      "right_hand ['#', 3, 2, 5]\n",
      "push_hand ['L', 'R', 'L', 'L', 'L', 'R', 'L', 'L', 'R']\n",
      "ㅡㅡㅡㅡㅡㅡㅡㅡㅡㅡㅡㅡㅡㅡㅡㅡㅡㅡㅡㅡㅡㅡㅡㅡㅡㅡㅡㅡㅡㅡㅡㅡㅡㅡㅡㅡ\n",
      "9\n",
      "left_hand ['*', 1, 4, 5, 8, 1, 4]\n",
      "right_hand ['#', 3, 2, 5, 9]\n",
      "push_hand ['L', 'R', 'L', 'L', 'L', 'R', 'L', 'L', 'R', 'R']\n",
      "ㅡㅡㅡㅡㅡㅡㅡㅡㅡㅡㅡㅡㅡㅡㅡㅡㅡㅡㅡㅡㅡㅡㅡㅡㅡㅡㅡㅡㅡㅡㅡㅡㅡㅡㅡㅡ\n",
      "5\n",
      "left_hand ['*', 1, 4, 5, 8, 1, 4, 5]\n",
      "right_hand ['#', 3, 2, 5, 9]\n",
      "push_hand ['L', 'R', 'L', 'L', 'L', 'R', 'L', 'L', 'R', 'R', 'L']\n",
      "ㅡㅡㅡㅡㅡㅡㅡㅡㅡㅡㅡㅡㅡㅡㅡㅡㅡㅡㅡㅡㅡㅡㅡㅡㅡㅡㅡㅡㅡㅡㅡㅡㅡㅡㅡㅡ\n"
     ]
    },
    {
     "data": {
      "text/plain": [
       "'LRLLLRLLRRL'"
      ]
     },
     "execution_count": 203,
     "metadata": {},
     "output_type": "execute_result"
    }
   ],
   "source": [
    "solution([1, 3, 4, 5, 8, 2, 1, 4, 5, 9, 5],'right')"
   ]
  },
  {
   "cell_type": "code",
   "execution_count": 26,
   "id": "200e7c53",
   "metadata": {},
   "outputs": [
    {
     "name": "stdout",
     "output_type": "stream",
     "text": [
      "dis_9\n"
     ]
    }
   ],
   "source": [
    "[1, 3, 4, 5, 8, 2, 1, 4, 5, 9, 5]"
   ]
  },
  {
   "cell_type": "code",
   "execution_count": 29,
   "id": "efbdafcb",
   "metadata": {},
   "outputs": [
    {
     "name": "stdout",
     "output_type": "stream",
     "text": [
      "None\n"
     ]
    }
   ],
   "source": [
    "print(i)"
   ]
  },
  {
   "cell_type": "code",
   "execution_count": 33,
   "id": "5fc75ce6",
   "metadata": {},
   "outputs": [],
   "source": [
    "dictionary_2580 = {2:[0,1,2,3],5:[1,0,1,2],8:[2,1,0,1],0:[2,1,0,1]}"
   ]
  },
  {
   "cell_type": "code",
   "execution_count": 40,
   "id": "263a98c8",
   "metadata": {},
   "outputs": [
    {
     "data": {
      "text/plain": [
       "3"
      ]
     },
     "execution_count": 40,
     "metadata": {},
     "output_type": "execute_result"
    }
   ],
   "source": [
    "dictionary_2580[2][3]"
   ]
  },
  {
   "cell_type": "code",
   "execution_count": 1,
   "id": "1c9318d0",
   "metadata": {},
   "outputs": [],
   "source": [
    "dictionary_147 = {1:[1,2,3,4],4:[2,1,2,3],7:[3,2,1,2],'*':[4,3,2,1]}"
   ]
  },
  {
   "cell_type": "code",
   "execution_count": 12,
   "id": "dd7efb18",
   "metadata": {},
   "outputs": [
    {
     "data": {
      "text/plain": [
       "[3, 2, 1, 2]"
      ]
     },
     "execution_count": 12,
     "metadata": {},
     "output_type": "execute_result"
    }
   ],
   "source": [
    "#왼손\n",
    "dictionary_reft = {1:[1,2,3,4],4:[2,1,2,3],7:[3,2,1,2],'*':[4,3,2,1]}\n",
    "\n",
    "    \n",
    "#오른손\n",
    "dictionary_right = {3:[1,2,3,4],6:[2,1,2,3],9:[3,2,1,2],'#':[4,3,2,1]}\n",
    "\n",
    "#가운데\n",
    "dictionary_center = {2:[0,1,2,3],5:[1,0,1,2],8:[2,1,0,1],0:[2,1,0,1]}\n",
    "\n",
    "left_hand = [4,1,4,7]\n",
    "dictionary_reft[left_hand[-1]]"
   ]
  },
  {
   "cell_type": "code",
   "execution_count": 104,
   "id": "d67fe613",
   "metadata": {},
   "outputs": [
    {
     "data": {
      "text/plain": [
       "0"
      ]
     },
     "execution_count": 104,
     "metadata": {},
     "output_type": "execute_result"
    }
   ],
   "source": [
    "jy = {2:0,5:1,8:2,0:3}\n",
    "jy[2]"
   ]
  },
  {
   "cell_type": "code",
   "execution_count": 68,
   "id": "d442f381",
   "metadata": {},
   "outputs": [],
   "source": [
    "a = [1, 2, 3, 4, 5]\n",
    "a.append('L')"
   ]
  },
  {
   "cell_type": "code",
   "execution_count": 70,
   "id": "fe6b42c3",
   "metadata": {},
   "outputs": [],
   "source": [
    "a.append('L')"
   ]
  },
  {
   "cell_type": "code",
   "execution_count": 71,
   "id": "82f5b3b4",
   "metadata": {},
   "outputs": [
    {
     "data": {
      "text/plain": [
       "[1, 2, 3, 4, 5, 'L', 'L']"
      ]
     },
     "execution_count": 71,
     "metadata": {},
     "output_type": "execute_result"
    }
   ],
   "source": [
    "jy = {2:0,5:1,8:2,0:3}"
   ]
  },
  {
   "cell_type": "code",
   "execution_count": 204,
   "id": "a5def24b",
   "metadata": {},
   "outputs": [],
   "source": [
    "def solution(numbers, hand):\n",
    "    \n",
    "    if hand == 'right':\n",
    "        hand = 'R'\n",
    "    if hand == 'left':\n",
    "        hand = 'L'\n",
    "    #왼손\n",
    "    dictionary_left = {1:[1,2,3,4],4:[2,1,2,3],7:[3,2,1,2],'*':[4,3,2,1],2:[0,1,2,3],5:[1,0,1,2],8:[2,1,0,1],0:[3,2,1,0]}\n",
    "   \n",
    "    #오른손\n",
    "    dictionary_right = {3:[1,2,3,4],6:[2,1,2,3],9:[3,2,1,2],'#':[4,3,2,1],2:[0,1,2,3],5:[1,0,1,2],8:[2,1,0,1],0:[3,2,1,0]}\n",
    "\n",
    "\n",
    "    push_hand = []\n",
    "    left_hand = ['*']\n",
    "    right_hand = ['#']\n",
    "\n",
    "    for number in numbers:\n",
    "        if number == 1 or number == 4 or number == 7 : \n",
    "            push_hand.append('L'),left_hand.append(number)\n",
    "        elif number == 3 or number == 6 or number == 9 : \n",
    "            push_hand.append('R'),right_hand.append(number)\n",
    "        elif number == 2 or number == 5 or number == 8 or number == 0:       \n",
    "            jy = {2:0,5:1,8:2,0:3}\n",
    "            if dictionary_left[left_hand[-1]][jy[number]] < dictionary_right[right_hand[-1]][jy[number]] : \n",
    "                push_hand.append('L')\n",
    "                left_hand.append(number)\n",
    "            if dictionary_left[left_hand[-1]][jy[number]] > dictionary_right[right_hand[-1]][jy[number]] :\n",
    "                push_hand.append('R')\n",
    "                right_hand.append(number)\n",
    "            if dictionary_left[left_hand[-1]][jy[number]] == dictionary_right[right_hand[-1]][jy[number]] :\n",
    "                if hand == 'R':\n",
    "                    right_hand.append(number)\n",
    "                    push_hand.append(hand)\n",
    "                if hand == 'L':\n",
    "                    left_hand.append(number)\n",
    "                    push_hand.append(hand)\n",
    "    answer = (''.join(push_hand))    \n",
    "    return answer    "
   ]
  },
  {
   "cell_type": "code",
   "execution_count": 205,
   "id": "22bc3fb5",
   "metadata": {},
   "outputs": [
    {
     "data": {
      "text/plain": [
       "'LRLLLRLLRRL'"
      ]
     },
     "execution_count": 205,
     "metadata": {},
     "output_type": "execute_result"
    }
   ],
   "source": [
    "solution([1, 3, 4, 5, 8, 2, 1, 4, 5, 9, 5],'right')"
   ]
  },
  {
   "cell_type": "code",
   "execution_count": null,
   "id": "ccbed3f6",
   "metadata": {},
   "outputs": [],
   "source": []
  }
 ],
 "metadata": {
  "kernelspec": {
   "display_name": "Python 3 (ipykernel)",
   "language": "python",
   "name": "python3"
  },
  "language_info": {
   "codemirror_mode": {
    "name": "ipython",
    "version": 3
   },
   "file_extension": ".py",
   "mimetype": "text/x-python",
   "name": "python",
   "nbconvert_exporter": "python",
   "pygments_lexer": "ipython3",
   "version": "3.9.7"
  }
 },
 "nbformat": 4,
 "nbformat_minor": 5
}
