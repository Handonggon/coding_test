{
 "cells": [
  {
   "cell_type": "code",
   "execution_count": null,
   "metadata": {},
   "outputs": [
    {
     "ename": "",
     "evalue": "",
     "output_type": "error",
     "traceback": [
      "\u001b[1;31m커널을 시작하지 못했습니다. \n",
      "Traceback (most recent call last):\r\n",
      "  File \"c:\\Users\\YGL\\anaconda3\\envs\\py37\\lib\\runpy.py\", line 193, in _run_module_as_main\r\n",
      "    \"__main__\", mod_spec)\r\n",
      "  File \"c:\\Users\\YGL\\anaconda3\\envs\\py37\\lib\\runpy.py\", line 85, in _run_code\r\n",
      "    exec(code, run_globals)\r\n",
      "  File \"c:\\Users\\YGL\\anaconda3\\envs\\py37\\lib\\site-packages\\ipykernel_launcher.py\", line 15, in <module>\r\n",
      "    from ipykernel import kernelapp as app\r\n",
      "  File \"c:\\Users\\YGL\\anaconda3\\envs\\py37\\lib\\site-packages\\ipykernel\\kernelapp.py\", line 51, in <module>\r\n",
      "    from .ipkernel import IPythonKernel\r\n",
      "  File \"c:\\Users\\YGL\\anaconda3\\envs\\py37\\lib\\site-packages\\ipykernel\\ipkernel.py\", line 18, in <module>\r\n",
      "    from .debugger import Debugger, _is_debugpy_available\r\n",
      "  File \"c:\\Users\\YGL\\anaconda3\\envs\\py37\\lib\\site-packages\\ipykernel\\debugger.py\", line 21, in <module>\r\n",
      "    from debugpy.server import api  # noqa\r\n",
      "  File \"c:\\Users\\YGL\\anaconda3\\envs\\py37\\lib\\site-packages\\debugpy\\server\\__init__.py\", line 9, in <module>\r\n",
      "    import debugpy._vendored.force_pydevd  # noqa\r\n",
      "  File \"c:\\Users\\YGL\\anaconda3\\envs\\py37\\lib\\site-packages\\debugpy\\_vendored\\force_pydevd.py\", line 37, in <module>\r\n",
      "    pydevd_constants = import_module('_pydevd_bundle.pydevd_constants')\r\n",
      "  File \"c:\\Users\\YGL\\anaconda3\\envs\\py37\\lib\\importlib\\__init__.py\", line 127, in import_module\r\n",
      "    return _bootstrap._gcd_import(name[level:], package, level)\r\n",
      "  File \"c:\\Users\\YGL\\anaconda3\\envs\\py37\\lib\\site-packages\\debugpy\\_vendored\\pydevd\\_pydevd_bundle\\pydevd_constants.py\", line 362, in <module>\r\n",
      "    from _pydev_bundle._pydev_saved_modules import thread, threading\r\n",
      "  File \"c:\\Users\\YGL\\anaconda3\\envs\\py37\\lib\\site-packages\\debugpy\\_vendored\\pydevd\\_pydev_bundle\\_pydev_saved_modules.py\", line 91, in <module>\r\n",
      "    import code as _code;    verify_shadowed.check(_code, ['compile_command', 'InteractiveInterpreter'])\r\n",
      "  File \"c:\\Users\\YGL\\anaconda3\\envs\\py37\\lib\\site-packages\\debugpy\\_vendored\\pydevd\\_pydev_bundle\\_pydev_saved_modules.py\", line 75, in check\r\n",
      "    raise DebuggerInitializationError(msg)\r\n",
      "_pydev_bundle._pydev_saved_modules.DebuggerInitializationError: It was not possible to initialize the debugger due to a module name conflict.\r\n",
      "\r\n",
      "i.e.: the module \"code\" could not be imported because it is shadowed by:\r\n",
      "c:\\Users\\YGL\\Documents\\GitHub\\coding_test\\programmers\\1level\\7.소수\\code.py\r\n",
      "Please rename this file/folder so that the original module from the standard library can be imported. \n",
      "자세한 내용은 Jupyter <a href='command:jupyter.viewOutput'>로그</a>를 참조하세요."
     ]
    }
   ],
   "source": [
    "numbers = list(range(1000))\n",
    "pn = list(range(1000))\n",
    "basket = []"
   ]
  },
  {
   "cell_type": "code",
   "execution_count": 50,
   "metadata": {},
   "outputs": [],
   "source": [
    "for i in numbers :\n",
    "    for j in numbers:\n",
    "        pn.remove(j)\n",
    "\n",
    "\n",
    "\n"
   ]
  },
  {
   "cell_type": "code",
   "execution_count": 53,
   "metadata": {},
   "outputs": [
    {
     "name": "stdout",
     "output_type": "stream",
     "text": [
      "{0, 2, 3, 4, 5, 6, 7, 8, 9, 10, 11, 12, 13, 14, 15, 16, 17, 18, 19, 20, 21, 22, 23, 24, 25, 26, 27, 28, 29, 30, 31, 32, 33, 34, 35, 36, 37, 38, 39, 40, 41, 42, 43, 44, 45, 46, 47, 48, 49, 50, 51, 52, 53, 54, 55, 56, 57, 58, 59, 60, 61, 62, 63, 64, 65, 66, 67, 68, 69, 70, 71, 72, 73, 74, 75, 76, 77, 78, 79, 80, 81, 82, 83, 84, 85, 86, 87, 88, 89, 90, 91, 92, 93, 94, 95, 96, 97, 98, 99, 100, 101, 102, 103, 104, 105, 106, 107, 108, 109, 110, 111, 112, 113, 114, 115, 116, 117, 118, 119, 120, 121, 122, 123, 124, 125, 126, 127, 128, 129, 130, 131, 132, 133, 134, 135, 136, 137, 138, 139, 140, 141, 142, 143, 144, 145, 146, 147, 148, 149, 150, 151, 152, 153, 154, 155, 156, 157, 158, 159, 160, 161, 162, 163, 164, 165, 166, 167, 168, 169, 170, 171, 172, 173, 174, 175, 176, 177, 178, 179, 180, 181, 182, 183, 184, 185, 186, 187, 188, 189, 190, 191, 192, 193, 194, 195, 196, 197, 198, 199, 200, 201, 202, 203, 204, 205, 206, 207, 208, 209, 210, 211, 212, 213, 214, 215, 216, 217, 218, 219, 220, 221, 222, 223, 224, 225, 226, 227, 228, 229, 230, 231, 232, 233, 234, 235, 236, 237, 238, 239, 240, 241, 242, 243, 244, 245, 246, 247, 248, 249, 250, 251, 252, 253, 254, 255, 256, 257, 258, 259, 260, 261, 262, 263, 264, 265, 266, 267, 268, 269, 270, 271, 272, 273, 274, 275, 276, 277, 278, 279, 280, 281, 282, 283, 284, 285, 286, 287, 288, 289, 290, 291, 292, 293, 294, 295, 296, 297, 298, 299, 300, 301, 302, 303, 304, 305, 306, 307, 308, 309, 310, 311, 312, 313, 314, 315, 316, 317, 318, 319, 320, 321, 322, 323, 324, 325, 326, 327, 328, 329, 330, 331, 332, 333, 334, 335, 336, 337, 338, 339, 340, 341, 342, 343, 344, 345, 346, 347, 348, 349, 350, 351, 352, 353, 354, 355, 356, 357, 358, 359, 360, 361, 362, 363, 364, 365, 366, 367, 368, 369, 370, 371, 372, 373, 374, 375, 376, 377, 378, 379, 380, 381, 382, 383, 384, 385, 386, 387, 388, 389, 390, 391, 392, 393, 394, 395, 396, 397, 398, 399, 400, 401, 402, 403, 404, 405, 406, 407, 408, 409, 410, 411, 412, 413, 414, 415, 416, 417, 418, 419, 420, 421, 422, 423, 424, 425, 426, 427, 428, 429, 430, 431, 432, 433, 434, 435, 436, 437, 438, 439, 440, 441, 442, 443, 444, 445, 446, 447, 448, 449, 450, 451, 452, 453, 454, 455, 456, 457, 458, 459, 460, 461, 462, 463, 464, 465, 466, 467, 468, 469, 470, 471, 472, 473, 474, 475, 476, 477, 478, 479, 480, 481, 482, 483, 484, 485, 486, 487, 488, 489, 490, 491, 492, 493, 494, 495, 496, 497, 498, 499, 500, 501, 502, 503, 504, 505, 506, 507, 508, 509, 510, 511, 512, 513, 514, 515, 516, 517, 518, 519, 520, 521, 522, 523, 524, 525, 526, 527, 528, 529, 530, 531, 532, 533, 534, 535, 536, 537, 538, 539, 540, 541, 542, 543, 544, 545, 546, 547, 548, 549, 550, 551, 552, 553, 554, 555, 556, 557, 558, 559, 560, 561, 562, 563, 564, 565, 566, 567, 568, 569, 570, 571, 572, 573, 574, 575, 576, 577, 578, 579, 580, 581, 582, 583, 584, 585, 586, 587, 588, 589, 590, 591, 592, 593, 594, 595, 596, 597, 598, 599, 600, 601, 602, 603, 604, 605, 606, 607, 608, 609, 610, 611, 612, 613, 614, 615, 616, 617, 618, 619, 620, 621, 622, 623, 624, 625, 626, 627, 628, 629, 630, 631, 632, 633, 634, 635, 636, 637, 638, 639, 640, 641, 642, 643, 644, 645, 646, 647, 648, 649, 650, 651, 652, 653, 654, 655, 656, 657, 658, 659, 660, 661, 662, 663, 664, 665, 666, 667, 668, 669, 670, 671, 672, 673, 674, 675, 676, 677, 678, 679, 680, 681, 682, 683, 684, 685, 686, 687, 688, 689, 690, 691, 692, 693, 694, 695, 696, 697, 698, 699, 700, 701, 702, 703, 704, 705, 706, 707, 708, 709, 710, 711, 712, 713, 714, 715, 716, 717, 718, 719, 720, 721, 722, 723, 724, 725, 726, 727, 728, 729, 730, 731, 732, 733, 734, 735, 736, 737, 738, 739, 740, 741, 742, 743, 744, 745, 746, 747, 748, 749, 750, 751, 752, 753, 754, 755, 756, 757, 758, 759, 760, 761, 762, 763, 764, 765, 766, 767, 768, 769, 770, 771, 772, 773, 774, 775, 776, 777, 778, 779, 780, 781, 782, 783, 784, 785, 786, 787, 788, 789, 790, 791, 792, 793, 794, 795, 796, 797, 798, 799, 800, 801, 802, 803, 804, 805, 806, 807, 808, 809, 810, 811, 812, 813, 814, 815, 816, 817, 818, 819, 820, 821, 822, 823, 824, 825, 826, 827, 828, 829, 830, 831, 832, 833, 834, 835, 836, 837, 838, 839, 840, 841, 842, 843, 844, 845, 846, 847, 848, 849, 850, 851, 852, 853, 854, 855, 856, 857, 858, 859, 860, 861, 862, 863, 864, 865, 866, 867, 868, 869, 870, 871, 872, 873, 874, 875, 876, 877, 878, 879, 880, 881, 882, 883, 884, 885, 886, 887, 888, 889, 890, 891, 892, 893, 894, 895, 896, 897, 898, 899, 900, 901, 902, 903, 904, 905, 906, 907, 908, 909, 910, 911, 912, 913, 914, 915, 916, 917, 918, 919, 920, 921, 922, 923, 924, 925, 926, 927, 928, 929, 930, 931, 932, 933, 934, 935, 936, 937, 938, 939, 940, 941, 942, 943, 944, 945, 946, 947, 948, 949, 950, 951, 952, 953, 954, 955, 956, 957, 958, 959, 960, 961, 962, 963, 964, 965, 966, 967, 968, 969, 970, 971, 972, 973, 974, 975, 976, 977, 978, 979, 980, 981, 982, 983, 984, 985, 986, 987, 988, 989, 990, 991, 992, 993, 994, 995, 996, 997, 998, 999, 1000}\n"
     ]
    }
   ],
   "source": [
    "print(set(basket))"
   ]
  },
  {
   "cell_type": "code",
   "execution_count": null,
   "metadata": {},
   "outputs": [
    {
     "ename": "",
     "evalue": "",
     "output_type": "error",
     "traceback": [
      "\u001b[1;31m커널을 시작하지 못했습니다. \n",
      "Traceback (most recent call last):\r\n",
      "  File \"c:\\Users\\YGL\\anaconda3\\envs\\py37\\lib\\runpy.py\", line 193, in _run_module_as_main\r\n",
      "    \"__main__\", mod_spec)\r\n",
      "  File \"c:\\Users\\YGL\\anaconda3\\envs\\py37\\lib\\runpy.py\", line 85, in _run_code\r\n",
      "    exec(code, run_globals)\r\n",
      "  File \"c:\\Users\\YGL\\anaconda3\\envs\\py37\\lib\\site-packages\\ipykernel_launcher.py\", line 15, in <module>\r\n",
      "    from ipykernel import kernelapp as app\r\n",
      "  File \"c:\\Users\\YGL\\anaconda3\\envs\\py37\\lib\\site-packages\\ipykernel\\kernelapp.py\", line 51, in <module>\r\n",
      "    from .ipkernel import IPythonKernel\r\n",
      "  File \"c:\\Users\\YGL\\anaconda3\\envs\\py37\\lib\\site-packages\\ipykernel\\ipkernel.py\", line 18, in <module>\r\n",
      "    from .debugger import Debugger, _is_debugpy_available\r\n",
      "  File \"c:\\Users\\YGL\\anaconda3\\envs\\py37\\lib\\site-packages\\ipykernel\\debugger.py\", line 21, in <module>\r\n",
      "    from debugpy.server import api  # noqa\r\n",
      "  File \"c:\\Users\\YGL\\anaconda3\\envs\\py37\\lib\\site-packages\\debugpy\\server\\__init__.py\", line 9, in <module>\r\n",
      "    import debugpy._vendored.force_pydevd  # noqa\r\n",
      "  File \"c:\\Users\\YGL\\anaconda3\\envs\\py37\\lib\\site-packages\\debugpy\\_vendored\\force_pydevd.py\", line 37, in <module>\r\n",
      "    pydevd_constants = import_module('_pydevd_bundle.pydevd_constants')\r\n",
      "  File \"c:\\Users\\YGL\\anaconda3\\envs\\py37\\lib\\importlib\\__init__.py\", line 127, in import_module\r\n",
      "    return _bootstrap._gcd_import(name[level:], package, level)\r\n",
      "  File \"c:\\Users\\YGL\\anaconda3\\envs\\py37\\lib\\site-packages\\debugpy\\_vendored\\pydevd\\_pydevd_bundle\\pydevd_constants.py\", line 362, in <module>\r\n",
      "    from _pydev_bundle._pydev_saved_modules import thread, threading\r\n",
      "  File \"c:\\Users\\YGL\\anaconda3\\envs\\py37\\lib\\site-packages\\debugpy\\_vendored\\pydevd\\_pydev_bundle\\_pydev_saved_modules.py\", line 91, in <module>\r\n",
      "    import code as _code;    verify_shadowed.check(_code, ['compile_command', 'InteractiveInterpreter'])\r\n",
      "  File \"c:\\Users\\YGL\\anaconda3\\envs\\py37\\lib\\site-packages\\debugpy\\_vendored\\pydevd\\_pydev_bundle\\_pydev_saved_modules.py\", line 75, in check\r\n",
      "    raise DebuggerInitializationError(msg)\r\n",
      "_pydev_bundle._pydev_saved_modules.DebuggerInitializationError: It was not possible to initialize the debugger due to a module name conflict.\r\n",
      "\r\n",
      "i.e.: the module \"code\" could not be imported because it is shadowed by:\r\n",
      "c:\\Users\\YGL\\Documents\\GitHub\\coding_test\\programmers\\1level\\7.소수\\code.py\r\n",
      "Please rename this file/folder so that the original module from the standard library can be imported. \n",
      "자세한 내용은 Jupyter <a href='command:jupyter.viewOutput'>로그</a>를 참조하세요."
     ]
    }
   ],
   "source": [
    "pn = list(range(2,3000+1))\n",
    "\n",
    "\n",
    "for i in pn:\n",
    "    for j in range(i,3000+1,i):\n",
    "        if j not in pn:\n",
    "            pass\n",
    "        else :\n",
    "            pn.remove(j)\n",
    "    pn.append(i)\n",
    "    pn.sort() #pn맨뒤 인덱스에 i가 추가되면서 문제가 생기는듯해 추가함\n",
    "pn = set(pn)"
   ]
  },
  {
   "cell_type": "code",
   "execution_count": 106,
   "metadata": {},
   "outputs": [
    {
     "data": {
      "text/plain": [
       "{30,\n",
       " 48,\n",
       " 57,\n",
       " 59,\n",
       " 66,\n",
       " 75,\n",
       " 77,\n",
       " 84,\n",
       " 86,\n",
       " 88,\n",
       " 93,\n",
       " 95,\n",
       " 100,\n",
       " 102,\n",
       " 104,\n",
       " 106,\n",
       " 111,\n",
       " 113,\n",
       " 115,\n",
       " 117,\n",
       " 118,\n",
       " 120,\n",
       " 122,\n",
       " 127,\n",
       " 129,\n",
       " 131,\n",
       " 133,\n",
       " 136,\n",
       " 138,\n",
       " 145,\n",
       " 147,\n",
       " 149,\n",
       " 154,\n",
       " 156,\n",
       " 158,\n",
       " 163,\n",
       " 165,\n",
       " 170,\n",
       " 172,\n",
       " 174,\n",
       " 188,\n",
       " 190,\n",
       " 197,\n",
       " 199,\n",
       " 215,\n",
       " 240}"
      ]
     },
     "execution_count": 106,
     "metadata": {},
     "output_type": "execute_result"
    }
   ],
   "source": [
    "z = list(itertools.product(m, repeat=3))\n",
    "b = set(list(map(sum,z)))\n",
    "b"
   ]
  },
  {
   "cell_type": "code",
   "execution_count": 81,
   "metadata": {},
   "outputs": [
    {
     "data": {
      "text/plain": [
       "430"
      ]
     },
     "execution_count": 81,
     "metadata": {},
     "output_type": "execute_result"
    }
   ],
   "source": [
    "len(pn)"
   ]
  },
  {
   "cell_type": "code",
   "execution_count": 84,
   "metadata": {},
   "outputs": [],
   "source": [
    "import itertools"
   ]
  },
  {
   "cell_type": "code",
   "execution_count": null,
   "metadata": {},
   "outputs": [],
   "source": [
    "def solution(nums):\n",
    "    answer = -1\n",
    "\n",
    "    # [실행] 버튼을 누르면 출력 값을 볼 수 있습니다.\n",
    "    print('Hello Python')\n",
    "\n",
    "    return answer"
   ]
  },
  {
   "cell_type": "code",
   "execution_count": 102,
   "metadata": {},
   "outputs": [],
   "source": [
    "m = [10,80,37,28,55,39]"
   ]
  },
  {
   "cell_type": "code",
   "execution_count": 103,
   "metadata": {},
   "outputs": [],
   "source": [
    "z = list(itertools.product(m, repeat=3))\n",
    "b = set(list(map(sum,z)))"
   ]
  },
  {
   "cell_type": "code",
   "execution_count": 104,
   "metadata": {},
   "outputs": [
    {
     "data": {
      "text/plain": [
       "{30,\n",
       " 48,\n",
       " 57,\n",
       " 59,\n",
       " 66,\n",
       " 75,\n",
       " 77,\n",
       " 84,\n",
       " 86,\n",
       " 88,\n",
       " 93,\n",
       " 95,\n",
       " 100,\n",
       " 102,\n",
       " 104,\n",
       " 106,\n",
       " 111,\n",
       " 113,\n",
       " 115,\n",
       " 117,\n",
       " 118,\n",
       " 120,\n",
       " 122,\n",
       " 127,\n",
       " 129,\n",
       " 131,\n",
       " 133,\n",
       " 136,\n",
       " 138,\n",
       " 145,\n",
       " 147,\n",
       " 149,\n",
       " 154,\n",
       " 156,\n",
       " 158,\n",
       " 163,\n",
       " 165,\n",
       " 170,\n",
       " 172,\n",
       " 174,\n",
       " 188,\n",
       " 190,\n",
       " 197,\n",
       " 199,\n",
       " 215,\n",
       " 240}"
      ]
     },
     "execution_count": 104,
     "metadata": {},
     "output_type": "execute_result"
    }
   ],
   "source": [
    "b"
   ]
  },
  {
   "cell_type": "code",
   "execution_count": 101,
   "metadata": {},
   "outputs": [
    {
     "data": {
      "text/plain": [
       "{30,\n",
       " 48,\n",
       " 57,\n",
       " 59,\n",
       " 66,\n",
       " 75,\n",
       " 77,\n",
       " 84,\n",
       " 86,\n",
       " 88,\n",
       " 93,\n",
       " 95,\n",
       " 100,\n",
       " 102,\n",
       " 104,\n",
       " 106,\n",
       " 111,\n",
       " 113,\n",
       " 115,\n",
       " 117,\n",
       " 118,\n",
       " 120,\n",
       " 122,\n",
       " 127,\n",
       " 129,\n",
       " 131,\n",
       " 133,\n",
       " 136,\n",
       " 138,\n",
       " 145,\n",
       " 147,\n",
       " 149,\n",
       " 154,\n",
       " 156,\n",
       " 158,\n",
       " 163,\n",
       " 165,\n",
       " 170,\n",
       " 172,\n",
       " 174,\n",
       " 188,\n",
       " 190,\n",
       " 197,\n",
       " 199,\n",
       " 215,\n",
       " 240}"
      ]
     },
     "execution_count": 101,
     "metadata": {},
     "output_type": "execute_result"
    }
   ],
   "source": [
    "set(b)"
   ]
  },
  {
   "cell_type": "code",
   "execution_count": null,
   "metadata": {},
   "outputs": [],
   "source": []
  }
 ],
 "metadata": {
  "kernelspec": {
   "display_name": "Python 3.7.13 ('py37')",
   "language": "python",
   "name": "python3"
  },
  "language_info": {
   "codemirror_mode": {
    "name": "ipython",
    "version": 3
   },
   "file_extension": ".py",
   "mimetype": "text/x-python",
   "name": "python",
   "nbconvert_exporter": "python",
   "pygments_lexer": "ipython3",
   "version": "3.7.13"
  },
  "orig_nbformat": 4,
  "vscode": {
   "interpreter": {
    "hash": "f1448587ee29a9e3ba0d93b5dbc0bdeb77e6120a54eb964c41dfb93333066af0"
   }
  }
 },
 "nbformat": 4,
 "nbformat_minor": 2
}
