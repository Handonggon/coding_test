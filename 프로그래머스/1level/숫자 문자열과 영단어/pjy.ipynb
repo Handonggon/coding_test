{
 "cells": [
  {
   "cell_type": "code",
   "execution_count": 1,
   "id": "8d7f4b9b",
   "metadata": {},
   "outputs": [
    {
     "ename": "NameError",
     "evalue": "name 'board' is not defined",
     "output_type": "error",
     "traceback": [
      "\u001b[1;31m---------------------------------------------------------------------------\u001b[0m",
      "\u001b[1;31mNameError\u001b[0m                                 Traceback (most recent call last)",
      "\u001b[1;32m~\\AppData\\Local\\Temp/ipykernel_14636/2798742263.py\u001b[0m in \u001b[0;36m<module>\u001b[1;34m\u001b[0m\n\u001b[1;32m----> 1\u001b[1;33m \u001b[1;32mfor\u001b[0m \u001b[0mi\u001b[0m \u001b[1;32min\u001b[0m \u001b[0mrange\u001b[0m\u001b[1;33m(\u001b[0m\u001b[1;36m1\u001b[0m\u001b[1;33m,\u001b[0m\u001b[0mlen\u001b[0m\u001b[1;33m(\u001b[0m\u001b[0mboard\u001b[0m\u001b[1;33m[\u001b[0m\u001b[1;36m0\u001b[0m\u001b[1;33m]\u001b[0m\u001b[1;33m)\u001b[0m\u001b[1;33m+\u001b[0m\u001b[1;36m1\u001b[0m\u001b[1;33m)\u001b[0m\u001b[1;33m:\u001b[0m\u001b[1;33m\u001b[0m\u001b[1;33m\u001b[0m\u001b[0m\n\u001b[0m\u001b[0;32m      2\u001b[0m     \u001b[0mkeys\u001b[0m\u001b[1;33m.\u001b[0m\u001b[0mappend\u001b[0m\u001b[1;33m(\u001b[0m\u001b[0mi\u001b[0m\u001b[1;33m)\u001b[0m\u001b[1;33m\u001b[0m\u001b[1;33m\u001b[0m\u001b[0m\n\u001b[0;32m      3\u001b[0m     \u001b[0mlength\u001b[0m \u001b[1;33m=\u001b[0m \u001b[0mdict\u001b[0m\u001b[1;33m.\u001b[0m\u001b[0mfromkeys\u001b[0m\u001b[1;33m(\u001b[0m\u001b[0mkeys\u001b[0m\u001b[1;33m)\u001b[0m\u001b[1;33m\u001b[0m\u001b[1;33m\u001b[0m\u001b[0m\n",
      "\u001b[1;31mNameError\u001b[0m: name 'board' is not defined"
     ]
    }
   ],
   "source": [
    "for i in range(1,len(board[0])+1):\n",
    "    keys.append(i)\n",
    "    length = dict.fromkeys(keys)"
   ]
  },
  {
   "cell_type": "code",
   "execution_count": 2,
   "id": "4faedea1",
   "metadata": {},
   "outputs": [],
   "source": [
    "board = [[0,0,0,0,0],[0,0,1,0,3],[0,2,5,0,1],[4,2,4,4,2],[3,5,1,3,1]]"
   ]
  },
  {
   "cell_type": "code",
   "execution_count": 5,
   "id": "f2bb5d4f",
   "metadata": {},
   "outputs": [],
   "source": [
    "keys = []\n",
    "for i in range(1,len(board[0])+1):\n",
    "    keys.append(i)\n",
    "    length = dict.fromkeys(keys)"
   ]
  },
  {
   "cell_type": "code",
   "execution_count": 19,
   "id": "bfd42447",
   "metadata": {},
   "outputs": [],
   "source": [
    "keys = range(1,len(board[0])+1)"
   ]
  },
  {
   "cell_type": "code",
   "execution_count": 20,
   "id": "031b241c",
   "metadata": {},
   "outputs": [],
   "source": [
    "length = dict.fromkeys(keys)"
   ]
  },
  {
   "cell_type": "code",
   "execution_count": 18,
   "id": "27175ad2",
   "metadata": {},
   "outputs": [],
   "source": [
    "length = {}"
   ]
  },
  {
   "cell_type": "code",
   "execution_count": 16,
   "id": "caa7eafd",
   "metadata": {
    "scrolled": true
   },
   "outputs": [
    {
     "name": "stdout",
     "output_type": "stream",
     "text": [
      "range(1, 6)\n"
     ]
    }
   ],
   "source": [
    "print(range(1,len(board[0])+1))"
   ]
  },
  {
   "cell_type": "code",
   "execution_count": 41,
   "id": "f13473f7",
   "metadata": {},
   "outputs": [],
   "source": [
    "Numbers = {'zero': 0,\n",
    "           'one': 1,\n",
    "           'two': 2,\n",
    "           'three': 3,\n",
    "           'four': 4,\n",
    "           'five': 5,\n",
    "           'six': 6,\n",
    "           'seven': 7,\n",
    "           'eight': 8,\n",
    "           'nine': 9}"
   ]
  },
  {
   "cell_type": "code",
   "execution_count": 22,
   "id": "861bfe42",
   "metadata": {},
   "outputs": [],
   "source": [
    "s= \"one4seveneight\"\t\n",
    "result : 1478"
   ]
  },
  {
   "cell_type": "code",
   "execution_count": 23,
   "id": "d5a1d56a",
   "metadata": {},
   "outputs": [],
   "source": [
    "a = s.split()"
   ]
  },
  {
   "cell_type": "code",
   "execution_count": null,
   "id": "46f6f2b7",
   "metadata": {},
   "outputs": [],
   "source": [
    "0\tzero\n",
    "1\tone\n",
    "2\ttwo\n",
    "3\tthree\n",
    "4\tfour\n",
    "5\tfive\n",
    "6\tsix\n",
    "7\tseven\n",
    "8\teight\n",
    "9\tnine"
   ]
  },
  {
   "cell_type": "code",
   "execution_count": 27,
   "id": "29822cf1",
   "metadata": {},
   "outputs": [
    {
     "name": "stdout",
     "output_type": "stream",
     "text": [
      "zero\n",
      "one\n",
      "two\n",
      "three\n",
      "four\n",
      "five\n",
      "six\n",
      "seven\n",
      "eight\n",
      "nine\n"
     ]
    }
   ],
   "source": [
    "for i in Numbers :\n",
    "    print(i)"
   ]
  },
  {
   "cell_type": "code",
   "execution_count": 60,
   "id": "f1ab94df",
   "metadata": {},
   "outputs": [],
   "source": [
    "t = ''\n",
    "m = ''\n",
    "def solution(s):\n",
    "    t = ''\n",
    "    m = ''\n",
    "    for i in s :\n",
    "        t += i\n",
    "\n",
    "\n",
    "        if t in Numbers :\n",
    "            m += str(Numbers[str(t)])\n",
    "            t = ''\n",
    "        elif i.isdigit() == True:\n",
    "            m += str(int(i))\n",
    "            t = ''\n",
    "    answer = int(m)\n",
    "    return answer"
   ]
  },
  {
   "cell_type": "code",
   "execution_count": 58,
   "id": "dc21bebc",
   "metadata": {},
   "outputs": [
    {
     "data": {
      "text/plain": [
       "'1478'"
      ]
     },
     "execution_count": 58,
     "metadata": {},
     "output_type": "execute_result"
    }
   ],
   "source": [
    "def solution(s):\n",
    "    \n",
    "    return answer"
   ]
  },
  {
   "cell_type": "code",
   "execution_count": 59,
   "id": "8b2d1601",
   "metadata": {},
   "outputs": [
    {
     "data": {
      "text/plain": [
       "'one'"
      ]
     },
     "execution_count": 59,
     "metadata": {},
     "output_type": "execute_result"
    }
   ],
   "source": [
    "str('one')"
   ]
  },
  {
   "cell_type": "code",
   "execution_count": null,
   "id": "047192a4",
   "metadata": {},
   "outputs": [],
   "source": []
  }
 ],
 "metadata": {
  "kernelspec": {
   "display_name": "Python 3 (ipykernel)",
   "language": "python",
   "name": "python3"
  },
  "language_info": {
   "codemirror_mode": {
    "name": "ipython",
    "version": 3
   },
   "file_extension": ".py",
   "mimetype": "text/x-python",
   "name": "python",
   "nbconvert_exporter": "python",
   "pygments_lexer": "ipython3",
   "version": "3.9.7"
  }
 },
 "nbformat": 4,
 "nbformat_minor": 5
}
